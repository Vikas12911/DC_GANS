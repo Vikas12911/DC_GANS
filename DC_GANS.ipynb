{
  "nbformat": 4,
  "nbformat_minor": 0,
  "metadata": {
    "colab": {
      "name": "Untitled12.ipynb",
      "private_outputs": true,
      "provenance": []
    },
    "kernelspec": {
      "name": "python3",
      "display_name": "Python 3"
    },
    "language_info": {
      "name": "python"
    },
    "accelerator": "GPU"
  },
  "cells": [
    {
      "cell_type": "code",
      "source": [
        "import os\n",
        "import random\n",
        "import torchvision\n",
        "import torch\n",
        "import torch.nn as nn\n",
        "import torch.optim as optim\n",
        "import torchvision.datasets as datasets\n",
        "from torchvision import transforms\n",
        "import numpy as np\n",
        "import matplotlib.pyplot as plt\n",
        "import matplotlib.animation as animation\n",
        "import torchvision.utils as vutils\n",
        "from IPython.display import HTML\n",
        "\n",
        "manual_seed = 999\n",
        "print(\"Random Seed:\",manual_seed)\n",
        "random.seed(manual_seed)\n",
        "torch.manual_seed(manual_seed)"
      ],
      "metadata": {
        "id": "gF7vpfic51_u"
      },
      "execution_count": null,
      "outputs": []
    },
    {
      "cell_type": "code",
      "source": [
        "# No. of worker of dataloader\n",
        "workers = 2\n",
        "\n",
        "# Batch size during the training\n",
        "batch_size = 128\n",
        "\n",
        "# Spatial size of training images . All image will be resized to this\n",
        "# size using a transformer.\n",
        "image_size = 64\n",
        "\n",
        "# number of channels in training image.\n",
        "nc = 1 \n",
        "\n",
        "# size of z latent vector ( i.e size of generator input)\n",
        "nz = 100\n",
        "\n",
        "# Size of feature maps in genrator\n",
        "ngf = 64\n",
        "\n",
        "# size of feature map of discriminator\n",
        "ndf = 64\n",
        "\n",
        "# Number of trainig epoch\n",
        "num_epochs = 5\n",
        "\n",
        "# learning rate of the system\n",
        "lr = 0.0002\n",
        "\n",
        "# No. of gpu available\n",
        "ngpu=1\n",
        "\n",
        "# Beta1 hyperparam for Adam optimizers\n",
        "beta1=0.5\n"
      ],
      "metadata": {
        "id": "eEBlDTIs8F1U"
      },
      "execution_count": null,
      "outputs": []
    },
    {
      "cell_type": "code",
      "source": [
        "transform=transforms.Compose([\n",
        "                               transforms.Resize(image_size),\n",
        "                               transforms.CenterCrop(image_size),\n",
        "                               transforms.ToTensor(),\n",
        "                               transforms.Normalize((0.5), (0.5)),\n",
        "                           ])\n",
        "dataset = datasets.MNIST(root=\"dataset/\", train=True,\n",
        "                       download=True, transform = transform)\n",
        "dataloader = torch.utils.data.DataLoader(dataset , batch_size = batch_size , shuffle = True , num_workers = workers)\n",
        "device = torch.device(\"cuda:0\" if torch.cuda.is_available() else 'cpu')\n"
      ],
      "metadata": {
        "id": "Xk4tko5LF1Ok"
      },
      "execution_count": null,
      "outputs": []
    },
    {
      "cell_type": "code",
      "source": [
        "real_batch = next(iter(dataloader))\n",
        "print(real_batch[0].size())\n",
        "plt.figure(figsize=(8,8))\n",
        "plt.axis(\"off\")\n",
        "plt.title(\"Training Images\")\n",
        "plt.imshow(np.transpose(vutils.make_grid(real_batch[0].to(device)[:64], padding=2, normalize=True).cpu(),(1,2,0)))"
      ],
      "metadata": {
        "id": "pqnNJUAiHDXc"
      },
      "execution_count": null,
      "outputs": []
    },
    {
      "cell_type": "code",
      "source": [
        "# Custom weigth initialization called on netG and netD\n",
        "def weights_init(m):\n",
        "    classname = m.__class__.__name__\n",
        "    if classname.find('Conv') != -1:\n",
        "        nn.init.normal_(m.weight.data , 0.0 , 0.02)\n",
        "    elif classname.find('BatchNorm') !=-1:\n",
        "        nn.init.normal_(m.weight.data , 0.0 , 0.02)\n"
      ],
      "metadata": {
        "id": "8hEMrceNSBxf"
      },
      "execution_count": null,
      "outputs": []
    },
    {
      "cell_type": "code",
      "source": [
        "# Generator Code\n",
        "\n",
        "class Generator(nn.Module):\n",
        "    def __init__(self, ngpu):\n",
        "        super(Generator, self).__init__()\n",
        "        self.ngpu = ngpu\n",
        "        self.main = nn.Sequential(\n",
        "            # input is Z, going into a convolution\n",
        "            nn.ConvTranspose2d( nz, ngf * 8, 4, 1, 0, bias=False),\n",
        "            nn.BatchNorm2d(ngf * 8),\n",
        "            nn.ReLU(True),\n",
        "            # state size. (ngf*8) x 4 x 4\n",
        "            nn.ConvTranspose2d(ngf * 8, ngf * 4, 4, 2, 1, bias=False),\n",
        "            nn.BatchNorm2d(ngf * 4),\n",
        "            nn.ReLU(True),\n",
        "            # state size. (ngf*4) x 8 x 8\n",
        "            nn.ConvTranspose2d( ngf * 4, ngf * 2, 4, 2, 1, bias=False),\n",
        "            nn.BatchNorm2d(ngf * 2),\n",
        "            nn.ReLU(True),\n",
        "            # state size. (ngf*2) x 16 x 16\n",
        "            nn.ConvTranspose2d( ngf * 2, ngf, 4, 2, 1, bias=False),\n",
        "            nn.BatchNorm2d(ngf),\n",
        "            nn.ReLU(True),\n",
        "            # state size. (ngf) x 32 x 32\n",
        "            nn.ConvTranspose2d( ngf, nc, 4, 2, 1, bias=False),\n",
        "            nn.Tanh()\n",
        "            # state size. (nc) x 64 x 64\n",
        "        )\n",
        "\n",
        "    def forward(self, input):\n",
        "        return self.main(input)"
      ],
      "metadata": {
        "id": "3w5jUNrqKhlI"
      },
      "execution_count": null,
      "outputs": []
    },
    {
      "cell_type": "code",
      "source": [
        "# Create the Generator\n",
        "netG = Generator(ngpu).to(device)\n",
        "\n",
        "# Handle multiple-gpu if desired\n",
        "if (device.type == 'cuda') and (ngpu > 1):\n",
        "    netG = nn.DataParallel(netG , list(range(ngpu)))\n",
        "\n",
        "# Apply the weight_init function to randomly initialize all weights\n",
        "# to mean=0 , stdev=0.02\n",
        "# netG.apply(weights_init)\n",
        "\n",
        "# Print the model\n",
        "print(netG)"
      ],
      "metadata": {
        "id": "eCwDIxYyRyMj"
      },
      "execution_count": null,
      "outputs": []
    },
    {
      "cell_type": "code",
      "source": [
        "class Discriminator(nn.Module):\n",
        "    def __init__(self, ngpu):\n",
        "        super(Discriminator, self).__init__()\n",
        "        self.ngpu = ngpu\n",
        "        self.main = nn.Sequential(\n",
        "            # input is (nc) x 64 x 64\n",
        "            nn.Conv2d(nc, ndf, 4, 2, 1, bias=False),\n",
        "            nn.LeakyReLU(0.2, inplace=True),\n",
        "            # state size. (ndf) x 32 x 32\n",
        "            nn.Conv2d(ndf, ndf * 2, 4, 2, 1, bias=False),\n",
        "            nn.BatchNorm2d(ndf * 2),\n",
        "            nn.LeakyReLU(0.2, inplace=True),\n",
        "            # state size. (ndf*2) x 16 x 16\n",
        "            nn.Conv2d(ndf * 2, ndf * 4, 4, 2, 1, bias=False),\n",
        "            nn.BatchNorm2d(ndf * 4),\n",
        "            nn.LeakyReLU(0.2, inplace=True),\n",
        "            # state size. (ndf*4) x 8 x 8\n",
        "            nn.Conv2d(ndf * 4, ndf * 8, 4, 2, 1, bias=False),\n",
        "            nn.BatchNorm2d(ndf * 8),\n",
        "            nn.LeakyReLU(0.2, inplace=True),\n",
        "            # state size. (ndf*8) x 4 x 4\n",
        "            nn.Conv2d(ndf * 8, 1, 4, 1, 0, bias=False),\n",
        "            nn.Sigmoid()\n",
        "        )\n",
        "\n",
        "    def forward(self, input):\n",
        "        return self.main(input)"
      ],
      "metadata": {
        "id": "DnXtrrjtS0gP"
      },
      "execution_count": null,
      "outputs": []
    },
    {
      "cell_type": "code",
      "source": [
        "# Create the Discriminator\n",
        "netD = Discriminator(ngpu).to(device)\n",
        "\n",
        "# Handle multi-gpu if desired\n",
        "if (device.type == 'cuda') and (ngpu > 1):\n",
        "    netD = nn.DataParallel(netD , list(range(ngpu)))\n",
        "\n",
        "# Apply the weights_init function to randomly initialize all weights\n",
        "# to mean = 0 , stdev = 0.2.\n",
        "# netD.apply(weights_init)\n",
        "\n",
        "print(netD)"
      ],
      "metadata": {
        "id": "ddjVH99LZl_I"
      },
      "execution_count": null,
      "outputs": []
    },
    {
      "cell_type": "code",
      "source": [
        "# Initialize BCELoss function\n",
        "criterion = nn.BCELoss()\n",
        "\n",
        "# create batch of latent vectors that we will use to visualize\n",
        "# the progression of the generator\n",
        "fixed_noise = torch.randn(128,nz,1,1,device=device)\n",
        "\n",
        "# Establish convention for real and fake labels during training\n",
        "real_label = 1\n",
        "fake_label = 0\n",
        "\n",
        "# Setup Adam optimizer for both G and D\n",
        "optimizerD = optim.Adam(netD.parameters(),lr=lr,betas=(beta1,0.999))\n",
        "optimizerG = optim.Adam(netG.parameters(),lr=lr,betas=(beta1,0.999))\n",
        "\n"
      ],
      "metadata": {
        "id": "5e-U7uP3alzx"
      },
      "execution_count": null,
      "outputs": []
    },
    {
      "cell_type": "code",
      "source": [
        "# Training Loop\n",
        "\n",
        "# Lists to keep track of progress\n",
        "img_list = []\n",
        "G_losses = []\n",
        "D_losses = []\n",
        "iters = 0\n",
        "print(\"Stating training Loop...\")\n",
        "\n",
        "# For each epoch\n",
        "for epoch in range(num_epochs):\n",
        "    # For each batch in  the dataloader\n",
        "    for i , (data , label) in enumerate(dataloader):\n",
        "        #########################################\n",
        "        # (1) Update D network: maximize log(D(x)) + log(1-D(g(x)))\n",
        "        #########################################\n",
        "        ### Train with all-real batch\n",
        "        netD.zero_grad()\n",
        "        # Format batch\n",
        "        real_cpu = data.to(device)\n",
        "        # print(real_cpu.shape)\n",
        "        b_size = real_cpu.size(0)\n",
        "        Label = torch.full((b_size , ) , real_label , dtype=torch.float , device=device)\n",
        "        # Forward pass real batch through D\n",
        "        output = netD(real_cpu).view(-1)\n",
        "        # Calculate loss on all-real batch\n",
        "        errD_real = criterion(output,Label)\n",
        "        # Calculate gradients for D in backward pass\n",
        "        errD_real.backward()\n",
        "        D_x = output.mean().item()\n",
        "\n",
        "        # Train with all-fake\n",
        "        # Generate batch of latent vectors\n",
        "        noise = torch.randn(b_size , nz , 1 ,1 ,device=device)\n",
        "        # Generate fake image batchn with G\n",
        "        fake  = netG(noise)\n",
        "        Label = Label.fill_(fake_label)\n",
        "        # Classify all fake batch with D\n",
        "        output = netD(fake.detach()).view(-1)\n",
        "        # Calculate D's loss on the all-fake batch\n",
        "        errD_fake = criterion(output , Label)\n",
        "        # Calculate the gradient for this batch , accumulated with previous gradients\n",
        "        errD_fake.backward()\n",
        "        D_G_z1 = output.mean().item()\n",
        "        # Compute error of D as sum over the fake and real batches\n",
        "        errD = (errD_real + errD_fake)\n",
        "        # update D\n",
        "        optimizerD.step()\n",
        "\n",
        "        #######################################################\n",
        "        # (2) Update G Network: maximize log(D(G(X)))\n",
        "        #######################################################\n",
        "        netG.zero_grad()\n",
        "        Label.fill_(real_label) # fake labels are real for generator cost\n",
        "        # Since we just updated D , perform another forward pass of all-fake batch through D\n",
        "        output = netD(fake).view(-1)\n",
        "        # Calculate G's loss based on this output\n",
        "        errG = criterion(output , Label)\n",
        "        # Calculate Gradient for G\n",
        "        errG.backward()\n",
        "        D_G_z2 = output.mean().item()\n",
        "        # Update G\n",
        "        optimizerG.step()\n",
        "\n",
        "        # Output training stats\n",
        "        if i % 50 == 0:\n",
        "            print('[%d/%d][%d/%d]\\tLoss_D: %.4f\\tLoss_G: %.4f\\tD(x): %.4f\\tD(G(z)): %.4f / %.4f'\n",
        "                  % (epoch, num_epochs, i, len(dataloader),\n",
        "                     errD.item(), errG.item(), D_x, D_G_z1, D_G_z2))\n",
        "\n",
        "        # Save Losses for plotting later\n",
        "        G_losses.append(errG.item())\n",
        "        D_losses.append(errD.item())\n",
        "\n",
        "        # Check how the generator is doing by saving G's output on fixed_noise\n",
        "        if (iters % 500 == 0) or ((epoch == num_epochs-1) and (i == len(dataloader)-1)):\n",
        "            with torch.no_grad():\n",
        "                fake = netG(fixed_noise).detach().cpu()\n",
        "            img_list.append(vutils.make_grid(fake, padding=2, normalize=True))\n",
        "\n",
        "        iters += 1\n",
        "\n",
        "\n",
        "\n",
        "        \n"
      ],
      "metadata": {
        "id": "A3BNjOPDd8Gz"
      },
      "execution_count": null,
      "outputs": []
    },
    {
      "cell_type": "code",
      "source": [
        "plt.figure(figsize=(10,5))\n",
        "plt.title('Generator and Discriminator Loss During Training')\n",
        "plt.plot(G_losses,label='G')\n",
        "plt.plot(G_losses,label='D')\n",
        "plt.xlabel('iterations')\n",
        "plt.legend()\n",
        "plt.show()"
      ],
      "metadata": {
        "id": "muvTrsoEgtT4"
      },
      "execution_count": null,
      "outputs": []
    },
    {
      "cell_type": "code",
      "source": [
        "fig = plt.figure(figsize=(8,8))\n",
        "plt.axis('off')\n",
        "ims = [[plt.imshow(np.transpose(i,(1,2,0)),animated = True)] for i in img_list]\n",
        "ani = animation.ArtistAnimation(fig , ims , interval = 1000 , repeat_delay=1000 , blit=True)\n",
        "HTML(ani.to_jshtml())"
      ],
      "metadata": {
        "id": "21dyMzap9dmt"
      },
      "execution_count": null,
      "outputs": []
    },
    {
      "cell_type": "code",
      "source": [
        "# Grab a batch of real images from the dataloader\n",
        "real_batch = next(iter(dataloader))\n",
        "\n",
        "# Plot the real images\n",
        "plt.figure(figsize=(15,15))\n",
        "plt.subplot(1,2,1)\n",
        "plt.axis(\"off\")\n",
        "plt.title(\"Real Images\")\n",
        "plt.imshow(np.transpose(vutils.make_grid(real_batch[0].to(device)[:64], padding=5, normalize=True).cpu(),(1,2,0)))\n",
        "\n",
        "# Plot the fake images from the last epoch\n",
        "plt.subplot(1,2,2)\n",
        "plt.axis(\"off\")\n",
        "plt.title(\"Fake Images\")\n",
        "plt.imshow(np.transpose(img_list[-1],(1,2,0)))\n",
        "plt.show()"
      ],
      "metadata": {
        "id": "65tScgXfA1xi"
      },
      "execution_count": null,
      "outputs": []
    },
    {
      "cell_type": "code",
      "source": [
        ""
      ],
      "metadata": {
        "id": "YckpypTLBeGd"
      },
      "execution_count": null,
      "outputs": []
    }
  ]
}